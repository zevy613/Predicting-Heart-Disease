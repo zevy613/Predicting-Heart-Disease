{
  "nbformat": 4,
  "nbformat_minor": 0,
  "metadata": {
    "colab": {
      "provenance": [],
      "collapsed_sections": [],
      "mount_file_id": "1_xEUvN9EpyL6vziVja9S9t6MeYsQHivE",
      "authorship_tag": "ABX9TyO5OBD4a92uuDiXJiJMrA5b",
      "include_colab_link": true
    },
    "kernelspec": {
      "name": "python3",
      "display_name": "Python 3"
    },
    "language_info": {
      "name": "python"
    }
  },
  "cells": [
    {
      "cell_type": "markdown",
      "metadata": {
        "id": "view-in-github",
        "colab_type": "text"
      },
      "source": [
        "<a href=\"https://colab.research.google.com/github/zevy613/Project-2/blob/main/Project2_Part4.ipynb\" target=\"_parent\"><img src=\"https://colab.research.google.com/assets/colab-badge.svg\" alt=\"Open In Colab\"/></a>"
      ]
    },
    {
      "cell_type": "markdown",
      "source": [
        "#Loading, Inspecting and Visualizing Raw Data"
      ],
      "metadata": {
        "id": "xSIj-QspYm6n"
      }
    },
    {
      "cell_type": "code",
      "execution_count": 123,
      "metadata": {
        "colab": {
          "base_uri": "https://localhost:8080/",
          "height": 206
        },
        "id": "VpkxpZZ1_nZv",
        "outputId": "6f691b82-9025-4a3c-f4e1-2580a915e056"
      },
      "outputs": [
        {
          "output_type": "execute_result",
          "data": {
            "text/plain": [
              "   Age Sex ChestPainType  RestingBP  Cholesterol  FastingBS RestingECG  MaxHR  \\\n",
              "0   40   M           ATA        140          289          0     Normal    172   \n",
              "1   49   F           NAP        160          180          0     Normal    156   \n",
              "2   37   M           ATA        130          283          0         ST     98   \n",
              "3   48   F           ASY        138          214          0     Normal    108   \n",
              "4   54   M           NAP        150          195          0     Normal    122   \n",
              "\n",
              "  ExerciseAngina  Oldpeak ST_Slope  HeartDisease  \n",
              "0              N      0.0       Up             0  \n",
              "1              N      1.0     Flat             1  \n",
              "2              N      0.0       Up             0  \n",
              "3              Y      1.5     Flat             1  \n",
              "4              N      0.0       Up             0  "
            ],
            "text/html": [
              "\n",
              "  <div id=\"df-1ce1f0ea-f18d-499e-8e1c-802ad694aba9\">\n",
              "    <div class=\"colab-df-container\">\n",
              "      <div>\n",
              "<style scoped>\n",
              "    .dataframe tbody tr th:only-of-type {\n",
              "        vertical-align: middle;\n",
              "    }\n",
              "\n",
              "    .dataframe tbody tr th {\n",
              "        vertical-align: top;\n",
              "    }\n",
              "\n",
              "    .dataframe thead th {\n",
              "        text-align: right;\n",
              "    }\n",
              "</style>\n",
              "<table border=\"1\" class=\"dataframe\">\n",
              "  <thead>\n",
              "    <tr style=\"text-align: right;\">\n",
              "      <th></th>\n",
              "      <th>Age</th>\n",
              "      <th>Sex</th>\n",
              "      <th>ChestPainType</th>\n",
              "      <th>RestingBP</th>\n",
              "      <th>Cholesterol</th>\n",
              "      <th>FastingBS</th>\n",
              "      <th>RestingECG</th>\n",
              "      <th>MaxHR</th>\n",
              "      <th>ExerciseAngina</th>\n",
              "      <th>Oldpeak</th>\n",
              "      <th>ST_Slope</th>\n",
              "      <th>HeartDisease</th>\n",
              "    </tr>\n",
              "  </thead>\n",
              "  <tbody>\n",
              "    <tr>\n",
              "      <th>0</th>\n",
              "      <td>40</td>\n",
              "      <td>M</td>\n",
              "      <td>ATA</td>\n",
              "      <td>140</td>\n",
              "      <td>289</td>\n",
              "      <td>0</td>\n",
              "      <td>Normal</td>\n",
              "      <td>172</td>\n",
              "      <td>N</td>\n",
              "      <td>0.0</td>\n",
              "      <td>Up</td>\n",
              "      <td>0</td>\n",
              "    </tr>\n",
              "    <tr>\n",
              "      <th>1</th>\n",
              "      <td>49</td>\n",
              "      <td>F</td>\n",
              "      <td>NAP</td>\n",
              "      <td>160</td>\n",
              "      <td>180</td>\n",
              "      <td>0</td>\n",
              "      <td>Normal</td>\n",
              "      <td>156</td>\n",
              "      <td>N</td>\n",
              "      <td>1.0</td>\n",
              "      <td>Flat</td>\n",
              "      <td>1</td>\n",
              "    </tr>\n",
              "    <tr>\n",
              "      <th>2</th>\n",
              "      <td>37</td>\n",
              "      <td>M</td>\n",
              "      <td>ATA</td>\n",
              "      <td>130</td>\n",
              "      <td>283</td>\n",
              "      <td>0</td>\n",
              "      <td>ST</td>\n",
              "      <td>98</td>\n",
              "      <td>N</td>\n",
              "      <td>0.0</td>\n",
              "      <td>Up</td>\n",
              "      <td>0</td>\n",
              "    </tr>\n",
              "    <tr>\n",
              "      <th>3</th>\n",
              "      <td>48</td>\n",
              "      <td>F</td>\n",
              "      <td>ASY</td>\n",
              "      <td>138</td>\n",
              "      <td>214</td>\n",
              "      <td>0</td>\n",
              "      <td>Normal</td>\n",
              "      <td>108</td>\n",
              "      <td>Y</td>\n",
              "      <td>1.5</td>\n",
              "      <td>Flat</td>\n",
              "      <td>1</td>\n",
              "    </tr>\n",
              "    <tr>\n",
              "      <th>4</th>\n",
              "      <td>54</td>\n",
              "      <td>M</td>\n",
              "      <td>NAP</td>\n",
              "      <td>150</td>\n",
              "      <td>195</td>\n",
              "      <td>0</td>\n",
              "      <td>Normal</td>\n",
              "      <td>122</td>\n",
              "      <td>N</td>\n",
              "      <td>0.0</td>\n",
              "      <td>Up</td>\n",
              "      <td>0</td>\n",
              "    </tr>\n",
              "  </tbody>\n",
              "</table>\n",
              "</div>\n",
              "      <button class=\"colab-df-convert\" onclick=\"convertToInteractive('df-1ce1f0ea-f18d-499e-8e1c-802ad694aba9')\"\n",
              "              title=\"Convert this dataframe to an interactive table.\"\n",
              "              style=\"display:none;\">\n",
              "        \n",
              "  <svg xmlns=\"http://www.w3.org/2000/svg\" height=\"24px\"viewBox=\"0 0 24 24\"\n",
              "       width=\"24px\">\n",
              "    <path d=\"M0 0h24v24H0V0z\" fill=\"none\"/>\n",
              "    <path d=\"M18.56 5.44l.94 2.06.94-2.06 2.06-.94-2.06-.94-.94-2.06-.94 2.06-2.06.94zm-11 1L8.5 8.5l.94-2.06 2.06-.94-2.06-.94L8.5 2.5l-.94 2.06-2.06.94zm10 10l.94 2.06.94-2.06 2.06-.94-2.06-.94-.94-2.06-.94 2.06-2.06.94z\"/><path d=\"M17.41 7.96l-1.37-1.37c-.4-.4-.92-.59-1.43-.59-.52 0-1.04.2-1.43.59L10.3 9.45l-7.72 7.72c-.78.78-.78 2.05 0 2.83L4 21.41c.39.39.9.59 1.41.59.51 0 1.02-.2 1.41-.59l7.78-7.78 2.81-2.81c.8-.78.8-2.07 0-2.86zM5.41 20L4 18.59l7.72-7.72 1.47 1.35L5.41 20z\"/>\n",
              "  </svg>\n",
              "      </button>\n",
              "      \n",
              "  <style>\n",
              "    .colab-df-container {\n",
              "      display:flex;\n",
              "      flex-wrap:wrap;\n",
              "      gap: 12px;\n",
              "    }\n",
              "\n",
              "    .colab-df-convert {\n",
              "      background-color: #E8F0FE;\n",
              "      border: none;\n",
              "      border-radius: 50%;\n",
              "      cursor: pointer;\n",
              "      display: none;\n",
              "      fill: #1967D2;\n",
              "      height: 32px;\n",
              "      padding: 0 0 0 0;\n",
              "      width: 32px;\n",
              "    }\n",
              "\n",
              "    .colab-df-convert:hover {\n",
              "      background-color: #E2EBFA;\n",
              "      box-shadow: 0px 1px 2px rgba(60, 64, 67, 0.3), 0px 1px 3px 1px rgba(60, 64, 67, 0.15);\n",
              "      fill: #174EA6;\n",
              "    }\n",
              "\n",
              "    [theme=dark] .colab-df-convert {\n",
              "      background-color: #3B4455;\n",
              "      fill: #D2E3FC;\n",
              "    }\n",
              "\n",
              "    [theme=dark] .colab-df-convert:hover {\n",
              "      background-color: #434B5C;\n",
              "      box-shadow: 0px 1px 3px 1px rgba(0, 0, 0, 0.15);\n",
              "      filter: drop-shadow(0px 1px 2px rgba(0, 0, 0, 0.3));\n",
              "      fill: #FFFFFF;\n",
              "    }\n",
              "  </style>\n",
              "\n",
              "      <script>\n",
              "        const buttonEl =\n",
              "          document.querySelector('#df-1ce1f0ea-f18d-499e-8e1c-802ad694aba9 button.colab-df-convert');\n",
              "        buttonEl.style.display =\n",
              "          google.colab.kernel.accessAllowed ? 'block' : 'none';\n",
              "\n",
              "        async function convertToInteractive(key) {\n",
              "          const element = document.querySelector('#df-1ce1f0ea-f18d-499e-8e1c-802ad694aba9');\n",
              "          const dataTable =\n",
              "            await google.colab.kernel.invokeFunction('convertToInteractive',\n",
              "                                                     [key], {});\n",
              "          if (!dataTable) return;\n",
              "\n",
              "          const docLinkHtml = 'Like what you see? Visit the ' +\n",
              "            '<a target=\"_blank\" href=https://colab.research.google.com/notebooks/data_table.ipynb>data table notebook</a>'\n",
              "            + ' to learn more about interactive tables.';\n",
              "          element.innerHTML = '';\n",
              "          dataTable['output_type'] = 'display_data';\n",
              "          await google.colab.output.renderOutput(dataTable, element);\n",
              "          const docLink = document.createElement('div');\n",
              "          docLink.innerHTML = docLinkHtml;\n",
              "          element.appendChild(docLink);\n",
              "        }\n",
              "      </script>\n",
              "    </div>\n",
              "  </div>\n",
              "  "
            ]
          },
          "metadata": {},
          "execution_count": 123
        }
      ],
      "source": [
        "from xgboost import XGBClassifier\n",
        "from sklearn.preprocessing import StandardScaler, OneHotEncoder\n",
        "from sklearn.compose import make_column_transformer, make_column_selector\n",
        "from sklearn.pipeline import make_pipeline\n",
        "from sklearn.model_selection import train_test_split, GridSearchCV\n",
        "from sklearn.metrics import accuracy_score, precision_score, recall_score, classification_report, ConfusionMatrixDisplay, plot_confusion_matrix\n",
        "from sklearn.linear_model import LogisticRegression\n",
        "from sklearn.decomposition import PCA\n",
        "from sklearn.neighbors import KNeighborsClassifier\n",
        "\n",
        "import matplotlib.pyplot as plt\n",
        "import seaborn as sns\n",
        "import pandas as pd\n",
        "import numpy as np\n",
        "\n",
        "from sklearn import set_config\n",
        "set_config(display='diagram')\n",
        "\n",
        "\n",
        "# Source : https://www.kaggle.com/datasets/fedesoriano/heart-failure-prediction\n",
        "\n",
        "filename = \"/content/drive/MyDrive/Colab Notebooks/CodingDojo/Project#2/heart.csv\"\n",
        "df = pd.read_csv(filename)\n",
        "\n",
        "#lets copy our data set\n",
        "df_ml = df.copy()\n",
        "df_ml.head()"
      ]
    },
    {
      "cell_type": "markdown",
      "source": [
        "Checking to see if we have any duplicate rows or any null values."
      ],
      "metadata": {
        "id": "IuDw71fWZjSu"
      }
    },
    {
      "cell_type": "code",
      "source": [
        "print(\"Number of duplicate rows : \", df_ml.duplicated().sum())\n",
        "print(\"Number of missing values : \", df_ml.isna().sum().sum())"
      ],
      "metadata": {
        "colab": {
          "base_uri": "https://localhost:8080/"
        },
        "id": "OrcKVmgZ_6Ii",
        "outputId": "e81f9475-fb06-4098-ad63-10146a9e7c96"
      },
      "execution_count": 124,
      "outputs": [
        {
          "output_type": "stream",
          "name": "stdout",
          "text": [
            "Number of duplicate rows :  0\n",
            "Number of missing values :  0\n"
          ]
        }
      ]
    },
    {
      "cell_type": "markdown",
      "source": [
        "Some statistic of our data set."
      ],
      "metadata": {
        "id": "Rthi_YDrDXaY"
      }
    },
    {
      "cell_type": "code",
      "source": [
        "df_ml.describe()"
      ],
      "metadata": {
        "colab": {
          "base_uri": "https://localhost:8080/",
          "height": 300
        },
        "id": "_mthj62FB9tc",
        "outputId": "34abf221-4b40-41b6-a8d2-334dcc2a6a98"
      },
      "execution_count": 125,
      "outputs": [
        {
          "output_type": "execute_result",
          "data": {
            "text/plain": [
              "              Age   RestingBP  Cholesterol   FastingBS       MaxHR  \\\n",
              "count  918.000000  918.000000   918.000000  918.000000  918.000000   \n",
              "mean    53.510893  132.396514   198.799564    0.233115  136.809368   \n",
              "std      9.432617   18.514154   109.384145    0.423046   25.460334   \n",
              "min     28.000000    0.000000     0.000000    0.000000   60.000000   \n",
              "25%     47.000000  120.000000   173.250000    0.000000  120.000000   \n",
              "50%     54.000000  130.000000   223.000000    0.000000  138.000000   \n",
              "75%     60.000000  140.000000   267.000000    0.000000  156.000000   \n",
              "max     77.000000  200.000000   603.000000    1.000000  202.000000   \n",
              "\n",
              "          Oldpeak  HeartDisease  \n",
              "count  918.000000    918.000000  \n",
              "mean     0.887364      0.553377  \n",
              "std      1.066570      0.497414  \n",
              "min     -2.600000      0.000000  \n",
              "25%      0.000000      0.000000  \n",
              "50%      0.600000      1.000000  \n",
              "75%      1.500000      1.000000  \n",
              "max      6.200000      1.000000  "
            ],
            "text/html": [
              "\n",
              "  <div id=\"df-a6527b4f-5ffe-47f9-9af8-fb07259121c1\">\n",
              "    <div class=\"colab-df-container\">\n",
              "      <div>\n",
              "<style scoped>\n",
              "    .dataframe tbody tr th:only-of-type {\n",
              "        vertical-align: middle;\n",
              "    }\n",
              "\n",
              "    .dataframe tbody tr th {\n",
              "        vertical-align: top;\n",
              "    }\n",
              "\n",
              "    .dataframe thead th {\n",
              "        text-align: right;\n",
              "    }\n",
              "</style>\n",
              "<table border=\"1\" class=\"dataframe\">\n",
              "  <thead>\n",
              "    <tr style=\"text-align: right;\">\n",
              "      <th></th>\n",
              "      <th>Age</th>\n",
              "      <th>RestingBP</th>\n",
              "      <th>Cholesterol</th>\n",
              "      <th>FastingBS</th>\n",
              "      <th>MaxHR</th>\n",
              "      <th>Oldpeak</th>\n",
              "      <th>HeartDisease</th>\n",
              "    </tr>\n",
              "  </thead>\n",
              "  <tbody>\n",
              "    <tr>\n",
              "      <th>count</th>\n",
              "      <td>918.000000</td>\n",
              "      <td>918.000000</td>\n",
              "      <td>918.000000</td>\n",
              "      <td>918.000000</td>\n",
              "      <td>918.000000</td>\n",
              "      <td>918.000000</td>\n",
              "      <td>918.000000</td>\n",
              "    </tr>\n",
              "    <tr>\n",
              "      <th>mean</th>\n",
              "      <td>53.510893</td>\n",
              "      <td>132.396514</td>\n",
              "      <td>198.799564</td>\n",
              "      <td>0.233115</td>\n",
              "      <td>136.809368</td>\n",
              "      <td>0.887364</td>\n",
              "      <td>0.553377</td>\n",
              "    </tr>\n",
              "    <tr>\n",
              "      <th>std</th>\n",
              "      <td>9.432617</td>\n",
              "      <td>18.514154</td>\n",
              "      <td>109.384145</td>\n",
              "      <td>0.423046</td>\n",
              "      <td>25.460334</td>\n",
              "      <td>1.066570</td>\n",
              "      <td>0.497414</td>\n",
              "    </tr>\n",
              "    <tr>\n",
              "      <th>min</th>\n",
              "      <td>28.000000</td>\n",
              "      <td>0.000000</td>\n",
              "      <td>0.000000</td>\n",
              "      <td>0.000000</td>\n",
              "      <td>60.000000</td>\n",
              "      <td>-2.600000</td>\n",
              "      <td>0.000000</td>\n",
              "    </tr>\n",
              "    <tr>\n",
              "      <th>25%</th>\n",
              "      <td>47.000000</td>\n",
              "      <td>120.000000</td>\n",
              "      <td>173.250000</td>\n",
              "      <td>0.000000</td>\n",
              "      <td>120.000000</td>\n",
              "      <td>0.000000</td>\n",
              "      <td>0.000000</td>\n",
              "    </tr>\n",
              "    <tr>\n",
              "      <th>50%</th>\n",
              "      <td>54.000000</td>\n",
              "      <td>130.000000</td>\n",
              "      <td>223.000000</td>\n",
              "      <td>0.000000</td>\n",
              "      <td>138.000000</td>\n",
              "      <td>0.600000</td>\n",
              "      <td>1.000000</td>\n",
              "    </tr>\n",
              "    <tr>\n",
              "      <th>75%</th>\n",
              "      <td>60.000000</td>\n",
              "      <td>140.000000</td>\n",
              "      <td>267.000000</td>\n",
              "      <td>0.000000</td>\n",
              "      <td>156.000000</td>\n",
              "      <td>1.500000</td>\n",
              "      <td>1.000000</td>\n",
              "    </tr>\n",
              "    <tr>\n",
              "      <th>max</th>\n",
              "      <td>77.000000</td>\n",
              "      <td>200.000000</td>\n",
              "      <td>603.000000</td>\n",
              "      <td>1.000000</td>\n",
              "      <td>202.000000</td>\n",
              "      <td>6.200000</td>\n",
              "      <td>1.000000</td>\n",
              "    </tr>\n",
              "  </tbody>\n",
              "</table>\n",
              "</div>\n",
              "      <button class=\"colab-df-convert\" onclick=\"convertToInteractive('df-a6527b4f-5ffe-47f9-9af8-fb07259121c1')\"\n",
              "              title=\"Convert this dataframe to an interactive table.\"\n",
              "              style=\"display:none;\">\n",
              "        \n",
              "  <svg xmlns=\"http://www.w3.org/2000/svg\" height=\"24px\"viewBox=\"0 0 24 24\"\n",
              "       width=\"24px\">\n",
              "    <path d=\"M0 0h24v24H0V0z\" fill=\"none\"/>\n",
              "    <path d=\"M18.56 5.44l.94 2.06.94-2.06 2.06-.94-2.06-.94-.94-2.06-.94 2.06-2.06.94zm-11 1L8.5 8.5l.94-2.06 2.06-.94-2.06-.94L8.5 2.5l-.94 2.06-2.06.94zm10 10l.94 2.06.94-2.06 2.06-.94-2.06-.94-.94-2.06-.94 2.06-2.06.94z\"/><path d=\"M17.41 7.96l-1.37-1.37c-.4-.4-.92-.59-1.43-.59-.52 0-1.04.2-1.43.59L10.3 9.45l-7.72 7.72c-.78.78-.78 2.05 0 2.83L4 21.41c.39.39.9.59 1.41.59.51 0 1.02-.2 1.41-.59l7.78-7.78 2.81-2.81c.8-.78.8-2.07 0-2.86zM5.41 20L4 18.59l7.72-7.72 1.47 1.35L5.41 20z\"/>\n",
              "  </svg>\n",
              "      </button>\n",
              "      \n",
              "  <style>\n",
              "    .colab-df-container {\n",
              "      display:flex;\n",
              "      flex-wrap:wrap;\n",
              "      gap: 12px;\n",
              "    }\n",
              "\n",
              "    .colab-df-convert {\n",
              "      background-color: #E8F0FE;\n",
              "      border: none;\n",
              "      border-radius: 50%;\n",
              "      cursor: pointer;\n",
              "      display: none;\n",
              "      fill: #1967D2;\n",
              "      height: 32px;\n",
              "      padding: 0 0 0 0;\n",
              "      width: 32px;\n",
              "    }\n",
              "\n",
              "    .colab-df-convert:hover {\n",
              "      background-color: #E2EBFA;\n",
              "      box-shadow: 0px 1px 2px rgba(60, 64, 67, 0.3), 0px 1px 3px 1px rgba(60, 64, 67, 0.15);\n",
              "      fill: #174EA6;\n",
              "    }\n",
              "\n",
              "    [theme=dark] .colab-df-convert {\n",
              "      background-color: #3B4455;\n",
              "      fill: #D2E3FC;\n",
              "    }\n",
              "\n",
              "    [theme=dark] .colab-df-convert:hover {\n",
              "      background-color: #434B5C;\n",
              "      box-shadow: 0px 1px 3px 1px rgba(0, 0, 0, 0.15);\n",
              "      filter: drop-shadow(0px 1px 2px rgba(0, 0, 0, 0.3));\n",
              "      fill: #FFFFFF;\n",
              "    }\n",
              "  </style>\n",
              "\n",
              "      <script>\n",
              "        const buttonEl =\n",
              "          document.querySelector('#df-a6527b4f-5ffe-47f9-9af8-fb07259121c1 button.colab-df-convert');\n",
              "        buttonEl.style.display =\n",
              "          google.colab.kernel.accessAllowed ? 'block' : 'none';\n",
              "\n",
              "        async function convertToInteractive(key) {\n",
              "          const element = document.querySelector('#df-a6527b4f-5ffe-47f9-9af8-fb07259121c1');\n",
              "          const dataTable =\n",
              "            await google.colab.kernel.invokeFunction('convertToInteractive',\n",
              "                                                     [key], {});\n",
              "          if (!dataTable) return;\n",
              "\n",
              "          const docLinkHtml = 'Like what you see? Visit the ' +\n",
              "            '<a target=\"_blank\" href=https://colab.research.google.com/notebooks/data_table.ipynb>data table notebook</a>'\n",
              "            + ' to learn more about interactive tables.';\n",
              "          element.innerHTML = '';\n",
              "          dataTable['output_type'] = 'display_data';\n",
              "          await google.colab.output.renderOutput(dataTable, element);\n",
              "          const docLink = document.createElement('div');\n",
              "          docLink.innerHTML = docLinkHtml;\n",
              "          element.appendChild(docLink);\n",
              "        }\n",
              "      </script>\n",
              "    </div>\n",
              "  </div>\n",
              "  "
            ]
          },
          "metadata": {},
          "execution_count": 125
        }
      ]
    },
    {
      "cell_type": "markdown",
      "source": [
        "Checking to see if our data is balanced."
      ],
      "metadata": {
        "id": "zbWwx8BxDwpc"
      }
    },
    {
      "cell_type": "code",
      "source": [
        "df_ml['HeartDisease'].value_counts(normalize=True)"
      ],
      "metadata": {
        "colab": {
          "base_uri": "https://localhost:8080/"
        },
        "id": "iy87sBxQD0dv",
        "outputId": "8e9f083e-7aec-4f8a-fb56-bd90375ef7ee"
      },
      "execution_count": 126,
      "outputs": [
        {
          "output_type": "execute_result",
          "data": {
            "text/plain": [
              "1    0.553377\n",
              "0    0.446623\n",
              "Name: HeartDisease, dtype: float64"
            ]
          },
          "metadata": {},
          "execution_count": 126
        }
      ]
    },
    {
      "cell_type": "markdown",
      "source": [
        "Lets make some visualizations of our data."
      ],
      "metadata": {
        "id": "ZFlM3ZtCTQpz"
      }
    },
    {
      "cell_type": "code",
      "source": [
        "corr = df.corr()\n",
        "sns.heatmap(corr, cmap='Greens', annot=True)"
      ],
      "metadata": {
        "colab": {
          "base_uri": "https://localhost:8080/",
          "height": 344
        },
        "id": "FVXBiLqCTRh-",
        "outputId": "ee5b7179-7e96-48b3-ed68-7d19515730bd"
      },
      "execution_count": 127,
      "outputs": [
        {
          "output_type": "execute_result",
          "data": {
            "text/plain": [
              "<matplotlib.axes._subplots.AxesSubplot at 0x7fafbb2d8590>"
            ]
          },
          "metadata": {},
          "execution_count": 127
        },
        {
          "output_type": "display_data",
          "data": {
            "text/plain": [
              "<Figure size 432x288 with 2 Axes>"
            ],
            "image/png": "[encoded data removed]"
          },
          "metadata": {
            "needs_background": "light"
          }
        }
      ]
    },
    {
      "cell_type": "markdown",
      "source": [
        "From the above heatmap we can see that there are no immediate correlations between the columns of our data."
      ],
      "metadata": {
        "id": "V5X1oV9bvYI2"
      }
    },
    {
      "cell_type": "code",
      "source": [
        "df_ml['ChestPainType'].value_counts().plot(kind='bar')\n",
        "plt.xlabel(\"Chest Pain Type\");\n",
        "plt.ylabel(\"Count\");\n",
        "plt.title(\"Chest Pain Distibution\");"
      ],
      "metadata": {
        "colab": {
          "base_uri": "https://localhost:8080/",
          "height": 306
        },
        "id": "dpxYK3-cVfBr",
        "outputId": "b373d307-867f-48cc-ede8-ba479273be16"
      },
      "execution_count": 128,
      "outputs": [
        {
          "output_type": "display_data",
          "data": {
            "text/plain": [
              "<Figure size 432x288 with 1 Axes>"
            ],
            "image/png": "[encoded data removed]"
          },
          "metadata": {
            "needs_background": "light"
          }
        }
      ]
    },
    {
      "cell_type": "markdown",
      "source": [
        "From the above bar chart we can see the distibution of chest pain. We can see that ASY is the greatest and TA is the fewest. We will explore this in more detail later."
      ],
      "metadata": {
        "id": "re2fqKPtvrFr"
      }
    },
    {
      "cell_type": "code",
      "source": [
        "sns.regplot(data=df_ml, x='Age', y='RestingBP', line_kws={'color': 'black', 'ls': '--'});\n",
        "plt.title(\"Resting Blood Pressure by Age\");"
      ],
      "metadata": {
        "colab": {
          "base_uri": "https://localhost:8080/",
          "height": 295
        },
        "id": "V3OfM0ynW6jZ",
        "outputId": "52829f1a-61dd-4843-9011-4052478b681d"
      },
      "execution_count": 129,
      "outputs": [
        {
          "output_type": "display_data",
          "data": {
            "text/plain": [
              "<Figure size 432x288 with 1 Axes>"
            ],
            "image/png": "[encoded data removed]"
          },
          "metadata": {
            "needs_background": "light"
          }
        }
      ]
    },
    {
      "cell_type": "markdown",
      "source": [
        "We can see that most of the data points, when comparing Age and Resting Blood Pressure, are close with only a few exceptions. Another things to notice is that as Age increases Resting Blood Pressure also increases."
      ],
      "metadata": {
        "id": "sAsDGQ-kwCng"
      }
    },
    {
      "cell_type": "markdown",
      "source": [
        "#Explanatory Visualization"
      ],
      "metadata": {
        "id": "OalsBwfw5feI"
      }
    },
    {
      "cell_type": "markdown",
      "source": [
        "From the graph below we can see that as a patient gets older thier chances of getting heart disease increase. (the shaded area in the grahp is confidence interval!!!!!!!!!!!!!)"
      ],
      "metadata": {
        "id": "8wchvDocyOxq"
      }
    },
    {
      "cell_type": "code",
      "source": [
        "#Because we want a cleaner looking graph we need to round everyones age before we can graph agianst heart disease.\n",
        "#To do this without ruining our original data set (which we will need later) lets first make a copy.\n",
        "tempdf = df_ml.copy()\n",
        "\n",
        "#Round everyones ages in the copied data frame\n",
        "tempdf['Age'] = tempdf['Age'].round(-1) \n",
        "\n",
        "#Now lets plot ages and heart disease to see what we get\n",
        "sns.lineplot(data=tempdf, x='Age', y='HeartDisease');\n",
        "plt.title(\"Increase rate of Heart Disease with Age\");\n",
        "plt.xlabel(\"Age\", fontsize=12);\n",
        "plt.ylabel(\"Heart Disease\", fontsize=12);"
      ],
      "metadata": {
        "id": "B9qVPvaJAvvV",
        "colab": {
          "base_uri": "https://localhost:8080/",
          "height": 298
        },
        "outputId": "473cabb2-bd74-4522-b653-4624fb6034f6"
      },
      "execution_count": 130,
      "outputs": [
        {
          "output_type": "display_data",
          "data": {
            "text/plain": [
              "<Figure size 432x288 with 1 Axes>"
            ],
            "image/png": "[encoded data removed]"
          },
          "metadata": {
            "needs_background": "light"
          }
        }
      ]
    },
    {
      "cell_type": "markdown",
      "source": [
        "Lets get the precentage of heart disease based on gender."
      ],
      "metadata": {
        "id": "mcWRLTafeL8G"
      }
    },
    {
      "cell_type": "code",
      "source": [
        "sns.barplot(data=df_ml, x='Sex', y='HeartDisease')\n",
        "plt.title(\"Males have heart disease about 30% for then females\");\n",
        "print(\"Percentages\")\n",
        "df_ml.groupby('Sex').mean()['HeartDisease']"
      ],
      "metadata": {
        "colab": {
          "base_uri": "https://localhost:8080/",
          "height": 382
        },
        "id": "PTco6AhddeQj",
        "outputId": "9b5495ea-76ec-4a23-dd2f-f7331bd82e52"
      },
      "execution_count": 131,
      "outputs": [
        {
          "output_type": "stream",
          "name": "stdout",
          "text": [
            "Percentages\n"
          ]
        },
        {
          "output_type": "execute_result",
          "data": {
            "text/plain": [
              "Sex\n",
              "F    0.259067\n",
              "M    0.631724\n",
              "Name: HeartDisease, dtype: float64"
            ]
          },
          "metadata": {},
          "execution_count": 131
        },
        {
          "output_type": "display_data",
          "data": {
            "text/plain": [
              "<Figure size 432x288 with 1 Axes>"
            ],
            "image/png": "[encoded data removed]"
          },
          "metadata": {
            "needs_background": "light"
          }
        }
      ]
    },
    {
      "cell_type": "markdown",
      "source": [
        "  From the graph below we can see that people who are asymptomatic in regards to chest pain, are more at risk. This makes sense because people who don't have any symptomes don't know that there is a problem that needs to be addressed. As a result, no preventative measures are taken which leads to a higher rate of positivity. One way to avoid this is have regular check ups and frequent testing."
      ],
      "metadata": {
        "id": "JEGAk9xHT0iC"
      }
    },
    {
      "cell_type": "code",
      "source": [
        "sns.barplot(data=df_ml, x='ChestPainType', y='HeartDisease')\n",
        "plt.title(\"Higher percentage of heart disease in asymptomatic people\");"
      ],
      "metadata": {
        "colab": {
          "base_uri": "https://localhost:8080/",
          "height": 295
        },
        "id": "Xotw0FE1b3QJ",
        "outputId": "ed3bd70d-8a19-434c-d23a-58a9a882c55c"
      },
      "execution_count": 132,
      "outputs": [
        {
          "output_type": "display_data",
          "data": {
            "text/plain": [
              "<Figure size 432x288 with 1 Axes>"
            ],
            "image/png": "[encoded data removed]"
          },
          "metadata": {
            "needs_background": "light"
          }
        }
      ]
    },
    {
      "cell_type": "markdown",
      "source": [
        "The following graphs show that people who have exercise angina and a flat or down ST slope are more at risk of getting heart disease."
      ],
      "metadata": {
        "id": "weCQHyhYWk66"
      }
    },
    {
      "cell_type": "code",
      "source": [
        "sns.barplot(data=df_ml, x='ExerciseAngina', y='HeartDisease');\n",
        "plt.title(\"Rates of Exercise Angina\");"
      ],
      "metadata": {
        "colab": {
          "base_uri": "https://localhost:8080/",
          "height": 295
        },
        "id": "UqnLUNTeUgoN",
        "outputId": "aef10db5-a7ae-49fd-8d5c-23924facfb1f"
      },
      "execution_count": 133,
      "outputs": [
        {
          "output_type": "display_data",
          "data": {
            "text/plain": [
              "<Figure size 432x288 with 1 Axes>"
            ],
            "image/png": "[encoded data removed]"
          },
          "metadata": {
            "needs_background": "light"
          }
        }
      ]
    },
    {
      "cell_type": "code",
      "source": [
        "sns.barplot(data=df_ml, x='ST_Slope', y='HeartDisease');\n",
        "plt.title(\"Percentage of ST slope who have heart disease\");"
      ],
      "metadata": {
        "colab": {
          "base_uri": "https://localhost:8080/",
          "height": 296
        },
        "id": "OBoc2plDUh_Q",
        "outputId": "382e171a-0ce5-4a3c-9f63-c56e4c18595d"
      },
      "execution_count": 134,
      "outputs": [
        {
          "output_type": "display_data",
          "data": {
            "text/plain": [
              "<Figure size 432x288 with 1 Axes>"
            ],
            "image/png": "[encoded data removed]"
          },
          "metadata": {
            "needs_background": "light"
          }
        }
      ]
    },
    {
      "cell_type": "markdown",
      "source": [
        "#Data pre-processing"
      ],
      "metadata": {
        "id": "WWbdnMCxVxkk"
      }
    },
    {
      "cell_type": "code",
      "source": [
        "#We split our data into our features matrix and target column.\n",
        "X = df_ml.drop(columns='HeartDisease')\n",
        "y = df_ml['HeartDisease']"
      ],
      "metadata": {
        "id": "iEpM_iyHSmNg"
      },
      "execution_count": 135,
      "outputs": []
    },
    {
      "cell_type": "code",
      "source": [
        "#Lets perform train/test split so we dont have any data leakage.\n",
        "X_train, X_test, y_train, y_test = train_test_split(X, y, random_state=42)"
      ],
      "metadata": {
        "id": "bqO62dFiDWgq"
      },
      "execution_count": 136,
      "outputs": []
    },
    {
      "cell_type": "markdown",
      "source": [
        "We need to scale the numerical columns and One Hot Encode the nominal columns."
      ],
      "metadata": {
        "id": "2E0IVQghbvoD"
      }
    },
    {
      "cell_type": "code",
      "source": [
        "#instantiate scaler\n",
        "scaler = StandardScaler()\n",
        "\n",
        "#instantiate One Hot Encoder\n",
        "ohe = OneHotEncoder(handle_unknown='ignore')\n",
        "\n",
        "#lets select our data by type\n",
        "cat_selector = make_column_selector(dtype_include='object')\n",
        "num_selector = make_column_selector(dtype_include='number')\n",
        "\n",
        "#tuple these together with the appropriate transformer\n",
        "num_tuple = (scaler, num_selector)\n",
        "cat_tuple = (ohe, cat_selector)\n",
        "\n",
        "#make a column transformer\n",
        "transformer = make_column_transformer(cat_tuple, num_tuple, remainder='passthrough')\n",
        "\n",
        "#fit the data\n",
        "# transformer.fit(X_train, y_train)"
      ],
      "metadata": {
        "id": "YW91QQIsbmPm"
      },
      "execution_count": 137,
      "outputs": []
    },
    {
      "cell_type": "markdown",
      "source": [
        "Metrics Method : To make our code more readabl, lets make a method that will use all our metrics and apply them all at once."
      ],
      "metadata": {
        "id": "Jz0Y3KDDeMu_"
      }
    },
    {
      "cell_type": "code",
      "source": [
        "def metric(y, pred):\n",
        "  print(\"Accuracy score : \", accuracy_score(y, pred))\n",
        "  print(\"Recall score : \", recall_score(y, pred)) \n",
        "  print(\"Precision score : \", precision_score(y, pred))\n",
        "  print()\n",
        "  print(classification_report(y, pred))"
      ],
      "metadata": {
        "id": "LV-HIx8zNDHL"
      },
      "execution_count": 138,
      "outputs": []
    },
    {
      "cell_type": "markdown",
      "source": [
        "#Modeling"
      ],
      "metadata": {
        "id": "SvZ8GQIveXrk"
      }
    },
    {
      "cell_type": "markdown",
      "source": [
        "###We begin by using a default XGBClassifier"
      ],
      "metadata": {
        "id": "8dGuzK5neezq"
      }
    },
    {
      "cell_type": "code",
      "source": [
        "#instantiate basic model\n",
        "xgb = XGBClassifier(random_state=42);\n",
        "\n",
        "#put the model and the transformer in a pipeline\n",
        "xgb_pipe = make_pipeline(transformer, xgb);\n",
        "\n",
        "#fit the data\n",
        "xgb_pipe.fit(X_train, y_train);\n",
        "\n",
        "#make predictions\n",
        "train_pred = xgb_pipe.predict(X_train);\n",
        "test_pred = xgb_pipe.predict(X_test);\n",
        "\n",
        "#evaluate\n",
        "print(\"------------------Training Data Scores------------------\")\n",
        "metric(y_train, train_pred);\n",
        "plot_confusion_matrix(xgb_pipe, X_train, y_train, normalize='true');\n",
        "print(\"\\n------------------Testing Data Scores------------------\")\n",
        "metric(y_test, test_pred);\n",
        "plot_confusion_matrix(xgb_pipe, X_test, y_test, normalize='true');"
      ],
      "metadata": {
        "id": "G17bwRamd-ly",
        "colab": {
          "base_uri": "https://localhost:8080/",
          "height": 1000
        },
        "outputId": "6fb2f827-a790-40a4-8828-8e1639073960"
      },
      "execution_count": 139,
      "outputs": [
        {
          "output_type": "stream",
          "name": "stdout",
          "text": [
            "------------------Training Data Scores------------------\n",
            "Accuracy score :  0.9331395348837209\n",
            "Recall score :  0.9547872340425532\n",
            "Precision score :  0.9252577319587629\n",
            "\n",
            "              precision    recall  f1-score   support\n",
            "\n",
            "           0       0.94      0.91      0.92       312\n",
            "           1       0.93      0.95      0.94       376\n",
            "\n",
            "    accuracy                           0.93       688\n",
            "   macro avg       0.93      0.93      0.93       688\n",
            "weighted avg       0.93      0.93      0.93       688\n",
            "\n",
            "\n",
            "------------------Testing Data Scores------------------\n",
            "Accuracy score :  0.8695652173913043\n",
            "Recall score :  0.8484848484848485\n",
            "Precision score :  0.9180327868852459\n",
            "\n",
            "              precision    recall  f1-score   support\n",
            "\n",
            "           0       0.81      0.90      0.85        98\n",
            "           1       0.92      0.85      0.88       132\n",
            "\n",
            "    accuracy                           0.87       230\n",
            "   macro avg       0.87      0.87      0.87       230\n",
            "weighted avg       0.87      0.87      0.87       230\n",
            "\n"
          ]
        },
        {
          "output_type": "stream",
          "name": "stderr",
          "text": [
            "/usr/local/lib/python3.7/dist-packages/sklearn/utils/deprecation.py:87: FutureWarning: Function plot_confusion_matrix is deprecated; Function `plot_confusion_matrix` is deprecated in 1.0 and will be removed in 1.2. Use one of the class methods: ConfusionMatrixDisplay.from_predictions or ConfusionMatrixDisplay.from_estimator.\n",
            "  warnings.warn(msg, category=FutureWarning)\n",
            "/usr/local/lib/python3.7/dist-packages/sklearn/utils/deprecation.py:87: FutureWarning: Function plot_confusion_matrix is deprecated; Function `plot_confusion_matrix` is deprecated in 1.0 and will be removed in 1.2. Use one of the class methods: ConfusionMatrixDisplay.from_predictions or ConfusionMatrixDisplay.from_estimator.\n",
            "  warnings.warn(msg, category=FutureWarning)\n"
          ]
        },
        {
          "output_type": "display_data",
          "data": {
            "text/plain": [
              "<Figure size 432x288 with 2 Axes>"
            ],
            "image/png": "[encoded data removed]"
          },
          "metadata": {
            "needs_background": "light"
          }
        },
        {
          "output_type": "display_data",
          "data": {
            "text/plain": [
              "<Figure size 432x288 with 2 Axes>"
            ],
            "image/png": "[encoded data removed]"
          },
          "metadata": {
            "needs_background": "light"
          }
        }
      ]
    },
    {
      "cell_type": "markdown",
      "source": [
        "Before analyzing the results, lets tune some of the parameters and compare which model did better."
      ],
      "metadata": {
        "id": "4Ks8fyXAOde0"
      }
    },
    {
      "cell_type": "markdown",
      "source": [
        "We will use a grid search to tune multiple parameters at once."
      ],
      "metadata": {
        "id": "0t5M86nTfL1s"
      }
    },
    {
      "cell_type": "code",
      "source": [
        "%%time\n",
        "# https://towardsdatascience.com/mastering-xgboost-2eb6bce6bc76\n",
        "#Gridsearch\n",
        "params = {'xgbclassifier__max_depth': [2,3,4],\n",
        "          'xgbclassifier__num_leaves': [0,1,2],\n",
        "          'xgbclassifier__learning_rate': [1, .1, .01], \n",
        "          'xgbclassifier__min_child_weight': [1, .1, .01],\n",
        "          'xgbclassifier__n_estimators': [50, 75, 100]}\n",
        "\n",
        "gridsearch = GridSearchCV(xgb_pipe, param_grid=params, scoring='f1')\n",
        "\n",
        "gridsearch.fit(X_train, y_train)\n",
        "\n",
        "print(gridsearch.best_params_)\n",
        "# other metrics we can use to tune our model using gridsearch. https://login.codingdojo.com/m/213/7198/101240"
      ],
      "metadata": {
        "colab": {
          "base_uri": "https://localhost:8080/"
        },
        "id": "pWvrEs2GOdKm",
        "outputId": "153daf5d-6054-4450-e9d7-d741ec012238"
      },
      "execution_count": 149,
      "outputs": [
        {
          "output_type": "stream",
          "name": "stdout",
          "text": [
            "{'xgbclassifier__learning_rate': 0.1, 'xgbclassifier__max_depth': 4, 'xgbclassifier__min_child_weight': 0.01, 'xgbclassifier__n_estimators': 50, 'xgbclassifier__num_leaves': 0}\n",
            "CPU times: user 1min 17s, sys: 789 ms, total: 1min 18s\n",
            "Wall time: 1min 20s\n"
          ]
        }
      ]
    },
    {
      "cell_type": "markdown",
      "source": [
        "The output above shows the parameters and values for the best model. \n",
        "We will now extract the best model and see if the tuned model did better than our default model."
      ],
      "metadata": {
        "id": "Nud7BO49fs4r"
      }
    },
    {
      "cell_type": "markdown",
      "source": [
        "Lets use the best tuned model"
      ],
      "metadata": {
        "id": "2dDAm24iUS3Q"
      }
    },
    {
      "cell_type": "code",
      "source": [
        "#Lets retireve and evaluate our best model\n",
        "best_xgb = gridsearch.best_estimator_\n",
        "\n",
        "#make predictions\n",
        "train_preds = best_xgb.predict(X_train);\n",
        "test_preds = best_xgb.predict(X_test);\n",
        "\n",
        "#evaluate\n",
        "print(\"------------------Training Data Scores------------------\")\n",
        "metric(y_train, train_preds);\n",
        "plot_confusion_matrix(best_xgb, X_train, y_train, normalize='true');\n",
        "print(\"\\n-------------------Testing Data Scores-------------------\")\n",
        "metric(y_test, test_preds);\n",
        "plot_confusion_matrix(best_xgb, X_test, y_test, normalize='true');"
      ],
      "metadata": {
        "colab": {
          "base_uri": "https://localhost:8080/",
          "height": 1000
        },
        "id": "baWeaBUOS5Bl",
        "outputId": "d4599177-3fd9-4f93-c32b-755b7eccc22e"
      },
      "execution_count": 150,
      "outputs": [
        {
          "output_type": "stream",
          "name": "stdout",
          "text": [
            "------------------Training Data Scores------------------\n",
            "Accuracy score :  0.9418604651162791\n",
            "Recall score :  0.9574468085106383\n",
            "Precision score :  0.9375\n",
            "\n",
            "              precision    recall  f1-score   support\n",
            "\n",
            "           0       0.95      0.92      0.94       312\n",
            "           1       0.94      0.96      0.95       376\n",
            "\n",
            "    accuracy                           0.94       688\n",
            "   macro avg       0.94      0.94      0.94       688\n",
            "weighted avg       0.94      0.94      0.94       688\n",
            "\n",
            "\n",
            "-------------------Testing Data Scores-------------------\n",
            "Accuracy score :  0.8782608695652174\n",
            "Recall score :  0.8787878787878788\n",
            "Precision score :  0.90625\n",
            "\n",
            "              precision    recall  f1-score   support\n",
            "\n",
            "           0       0.84      0.88      0.86        98\n",
            "           1       0.91      0.88      0.89       132\n",
            "\n",
            "    accuracy                           0.88       230\n",
            "   macro avg       0.87      0.88      0.88       230\n",
            "weighted avg       0.88      0.88      0.88       230\n",
            "\n"
          ]
        },
        {
          "output_type": "stream",
          "name": "stderr",
          "text": [
            "/usr/local/lib/python3.7/dist-packages/sklearn/utils/deprecation.py:87: FutureWarning: Function plot_confusion_matrix is deprecated; Function `plot_confusion_matrix` is deprecated in 1.0 and will be removed in 1.2. Use one of the class methods: ConfusionMatrixDisplay.from_predictions or ConfusionMatrixDisplay.from_estimator.\n",
            "  warnings.warn(msg, category=FutureWarning)\n",
            "/usr/local/lib/python3.7/dist-packages/sklearn/utils/deprecation.py:87: FutureWarning: Function plot_confusion_matrix is deprecated; Function `plot_confusion_matrix` is deprecated in 1.0 and will be removed in 1.2. Use one of the class methods: ConfusionMatrixDisplay.from_predictions or ConfusionMatrixDisplay.from_estimator.\n",
            "  warnings.warn(msg, category=FutureWarning)\n"
          ]
        },
        {
          "output_type": "display_data",
          "data": {
            "text/plain": [
              "<Figure size 432x288 with 2 Axes>"
            ],
            "image/png": "[encoded data removed]"
          },
          "metadata": {
            "needs_background": "light"
          }
        },
        {
          "output_type": "display_data",
          "data": {
            "text/plain": [
              "<Figure size 432x288 with 2 Axes>"
            ],
            "image/png": "[encoded data removed]"
          },
          "metadata": {
            "needs_background": "light"
          }
        }
      ]
    },
    {
      "cell_type": "markdown",
      "source": [
        "Our XGBClassier did slightly better than our default model. One major plus is that our recall score is higher which will be explained later on."
      ],
      "metadata": {
        "id": "Xsg-kI5Nguld"
      }
    },
    {
      "cell_type": "markdown",
      "source": [
        "###Lets try a different model : Logistic Regression"
      ],
      "metadata": {
        "id": "j4G2pBvfSxTx"
      }
    },
    {
      "cell_type": "markdown",
      "source": [
        "We begin by using a default version of the model"
      ],
      "metadata": {
        "id": "G-zCIRzVhryO"
      }
    },
    {
      "cell_type": "code",
      "source": [
        "#instantiate model\n",
        "log_reg = LogisticRegression(C=1000, random_state=42)\n",
        "\n",
        "#make pipeline\n",
        "pipe = make_pipeline(transformer, log_reg)\n",
        "\n",
        "#fit the data\n",
        "pipe.fit(X_train, y_train)\n",
        "\n",
        "#make predictions\n",
        "train_pred = pipe.predict(X_train)\n",
        "test_pred = pipe.predict(X_test)\n",
        "\n",
        "#evaluate\n",
        "print(\"------------------Training Data Scores------------------\")\n",
        "metric(y_train, train_pred)\n",
        "plot_confusion_matrix(pipe, X_train, y_train, normalize='true')\n",
        "print(\"\\n-------------------Testing Data Scores-------------------\")\n",
        "metric(y_test, test_pred)\n",
        "plot_confusion_matrix(pipe, X_test, y_test, normalize='true')"
      ],
      "metadata": {
        "colab": {
          "base_uri": "https://localhost:8080/",
          "height": 1000
        },
        "id": "r04Cue7ESGz0",
        "outputId": "9cdb6b8c-c411-419c-9abe-44725a92b942"
      },
      "execution_count": 142,
      "outputs": [
        {
          "output_type": "stream",
          "name": "stdout",
          "text": [
            "------------------Training Data Scores------------------\n",
            "Accuracy score :  0.8691860465116279\n",
            "Recall score :  0.8962765957446809\n",
            "Precision score :  0.8685567010309279\n",
            "\n",
            "              precision    recall  f1-score   support\n",
            "\n",
            "           0       0.87      0.84      0.85       312\n",
            "           1       0.87      0.90      0.88       376\n",
            "\n",
            "    accuracy                           0.87       688\n",
            "   macro avg       0.87      0.87      0.87       688\n",
            "weighted avg       0.87      0.87      0.87       688\n",
            "\n",
            "\n",
            "-------------------Testing Data Scores-------------------\n",
            "Accuracy score :  0.8608695652173913\n",
            "Recall score :  0.8484848484848485\n",
            "Precision score :  0.9032258064516129\n",
            "\n",
            "              precision    recall  f1-score   support\n",
            "\n",
            "           0       0.81      0.88      0.84        98\n",
            "           1       0.90      0.85      0.88       132\n",
            "\n",
            "    accuracy                           0.86       230\n",
            "   macro avg       0.86      0.86      0.86       230\n",
            "weighted avg       0.86      0.86      0.86       230\n",
            "\n"
          ]
        },
        {
          "output_type": "stream",
          "name": "stderr",
          "text": [
            "/usr/local/lib/python3.7/dist-packages/sklearn/utils/deprecation.py:87: FutureWarning: Function plot_confusion_matrix is deprecated; Function `plot_confusion_matrix` is deprecated in 1.0 and will be removed in 1.2. Use one of the class methods: ConfusionMatrixDisplay.from_predictions or ConfusionMatrixDisplay.from_estimator.\n",
            "  warnings.warn(msg, category=FutureWarning)\n",
            "/usr/local/lib/python3.7/dist-packages/sklearn/utils/deprecation.py:87: FutureWarning: Function plot_confusion_matrix is deprecated; Function `plot_confusion_matrix` is deprecated in 1.0 and will be removed in 1.2. Use one of the class methods: ConfusionMatrixDisplay.from_predictions or ConfusionMatrixDisplay.from_estimator.\n",
            "  warnings.warn(msg, category=FutureWarning)\n"
          ]
        },
        {
          "output_type": "execute_result",
          "data": {
            "text/plain": [
              "<sklearn.metrics._plot.confusion_matrix.ConfusionMatrixDisplay at 0x7fafbaa0d2d0>"
            ]
          },
          "metadata": {},
          "execution_count": 142
        },
        {
          "output_type": "display_data",
          "data": {
            "text/plain": [
              "<Figure size 432x288 with 2 Axes>"
            ],
            "image/png": "[encoded data removed]"
          },
          "metadata": {
            "needs_background": "light"
          }
        },
        {
          "output_type": "display_data",
          "data": {
            "text/plain": [
              "<Figure size 432x288 with 2 Axes>"
            ],
            "image/png": "[encoded data removed]"
          },
          "metadata": {
            "needs_background": "light"
          }
        }
      ]
    },
    {
      "cell_type": "markdown",
      "source": [
        "Lets tune the model"
      ],
      "metadata": {
        "id": "CdpO3eXvUOAR"
      }
    },
    {
      "cell_type": "code",
      "source": [
        "%%time\n",
        "#Gridsearch\n",
        "params = {'logisticregression__C': [.125, .25, 1],\n",
        "          'logisticregression__max_iter':[15],\n",
        "          'logisticregression__penalty': ['l1', 'l2'], \n",
        "          'logisticregression__solver': ['liblinear']}\n",
        "\n",
        "gridsearch = GridSearchCV(pipe, param_grid=params)\n",
        "\n",
        "gridsearch.fit(X_train, y_train)\n",
        "\n",
        "print(gridsearch.best_params_)"
      ],
      "metadata": {
        "colab": {
          "base_uri": "https://localhost:8080/"
        },
        "id": "6o2_Oj7PUNkr",
        "outputId": "9da16304-4b8a-4a52-96b8-fcf352e0ea6d"
      },
      "execution_count": 143,
      "outputs": [
        {
          "output_type": "stream",
          "name": "stderr",
          "text": [
            "/usr/local/lib/python3.7/dist-packages/sklearn/svm/_base.py:1208: ConvergenceWarning: Liblinear failed to converge, increase the number of iterations.\n",
            "  ConvergenceWarning,\n",
            "/usr/local/lib/python3.7/dist-packages/sklearn/svm/_base.py:1208: ConvergenceWarning: Liblinear failed to converge, increase the number of iterations.\n",
            "  ConvergenceWarning,\n",
            "/usr/local/lib/python3.7/dist-packages/sklearn/svm/_base.py:1208: ConvergenceWarning: Liblinear failed to converge, increase the number of iterations.\n",
            "  ConvergenceWarning,\n",
            "/usr/local/lib/python3.7/dist-packages/sklearn/svm/_base.py:1208: ConvergenceWarning: Liblinear failed to converge, increase the number of iterations.\n",
            "  ConvergenceWarning,\n",
            "/usr/local/lib/python3.7/dist-packages/sklearn/svm/_base.py:1208: ConvergenceWarning: Liblinear failed to converge, increase the number of iterations.\n",
            "  ConvergenceWarning,\n"
          ]
        },
        {
          "output_type": "stream",
          "name": "stdout",
          "text": [
            "{'logisticregression__C': 0.25, 'logisticregression__max_iter': 15, 'logisticregression__penalty': 'l1', 'logisticregression__solver': 'liblinear'}\n",
            "CPU times: user 711 ms, sys: 6.96 ms, total: 718 ms\n",
            "Wall time: 725 ms\n"
          ]
        },
        {
          "output_type": "stream",
          "name": "stderr",
          "text": [
            "/usr/local/lib/python3.7/dist-packages/sklearn/svm/_base.py:1208: ConvergenceWarning: Liblinear failed to converge, increase the number of iterations.\n",
            "  ConvergenceWarning,\n",
            "/usr/local/lib/python3.7/dist-packages/sklearn/svm/_base.py:1208: ConvergenceWarning: Liblinear failed to converge, increase the number of iterations.\n",
            "  ConvergenceWarning,\n"
          ]
        }
      ]
    },
    {
      "cell_type": "code",
      "source": [
        "#Lets retireve and evaluate our best model\n",
        "best_lr = gridsearch.best_estimator_\n",
        "\n",
        "#make predictions\n",
        "train_preds = best_lr.predict(X_train)\n",
        "test_preds = best_lr.predict(X_test)\n",
        "\n",
        "#evaluate\n",
        "print(\"------------------Training Data Scores------------------\")\n",
        "metric(y_train, train_preds)\n",
        "plot_confusion_matrix(best_lr, X_train, y_train, normalize='true')\n",
        "print(\"\\n-------------------Testing Data Scores-------------------\")\n",
        "metric(y_test, test_preds)\n",
        "plot_confusion_matrix(best_lr, X_test, y_test, normalize='true')"
      ],
      "metadata": {
        "colab": {
          "base_uri": "https://localhost:8080/",
          "height": 1000
        },
        "id": "L_hLBUS6WgzS",
        "outputId": "951e399a-cf6a-4f44-9142-efd95d9ecb85"
      },
      "execution_count": 144,
      "outputs": [
        {
          "output_type": "stream",
          "name": "stderr",
          "text": [
            "/usr/local/lib/python3.7/dist-packages/sklearn/utils/deprecation.py:87: FutureWarning: Function plot_confusion_matrix is deprecated; Function `plot_confusion_matrix` is deprecated in 1.0 and will be removed in 1.2. Use one of the class methods: ConfusionMatrixDisplay.from_predictions or ConfusionMatrixDisplay.from_estimator.\n",
            "  warnings.warn(msg, category=FutureWarning)\n"
          ]
        },
        {
          "output_type": "stream",
          "name": "stdout",
          "text": [
            "------------------Training Data Scores------------------\n",
            "Accuracy score :  0.8706395348837209\n",
            "Recall score :  0.8962765957446809\n",
            "Precision score :  0.8708010335917312\n",
            "\n",
            "              precision    recall  f1-score   support\n",
            "\n",
            "           0       0.87      0.84      0.85       312\n",
            "           1       0.87      0.90      0.88       376\n",
            "\n",
            "    accuracy                           0.87       688\n",
            "   macro avg       0.87      0.87      0.87       688\n",
            "weighted avg       0.87      0.87      0.87       688\n",
            "\n",
            "\n",
            "-------------------Testing Data Scores-------------------\n",
            "Accuracy score :  0.8695652173913043\n",
            "Recall score :  0.8560606060606061\n",
            "Precision score :  0.9112903225806451\n",
            "\n",
            "              precision    recall  f1-score   support\n",
            "\n",
            "           0       0.82      0.89      0.85        98\n",
            "           1       0.91      0.86      0.88       132\n",
            "\n",
            "    accuracy                           0.87       230\n",
            "   macro avg       0.87      0.87      0.87       230\n",
            "weighted avg       0.87      0.87      0.87       230\n",
            "\n"
          ]
        },
        {
          "output_type": "stream",
          "name": "stderr",
          "text": [
            "/usr/local/lib/python3.7/dist-packages/sklearn/utils/deprecation.py:87: FutureWarning: Function plot_confusion_matrix is deprecated; Function `plot_confusion_matrix` is deprecated in 1.0 and will be removed in 1.2. Use one of the class methods: ConfusionMatrixDisplay.from_predictions or ConfusionMatrixDisplay.from_estimator.\n",
            "  warnings.warn(msg, category=FutureWarning)\n"
          ]
        },
        {
          "output_type": "execute_result",
          "data": {
            "text/plain": [
              "<sklearn.metrics._plot.confusion_matrix.ConfusionMatrixDisplay at 0x7fafbb30b050>"
            ]
          },
          "metadata": {},
          "execution_count": 144
        },
        {
          "output_type": "display_data",
          "data": {
            "text/plain": [
              "<Figure size 432x288 with 2 Axes>"
            ],
            "image/png": "[encoded data removed]"
          },
          "metadata": {
            "needs_background": "light"
          }
        },
        {
          "output_type": "display_data",
          "data": {
            "text/plain": [
              "<Figure size 432x288 with 2 Axes>"
            ],
            "image/png": "[encoded data removed]"
          },
          "metadata": {
            "needs_background": "light"
          }
        }
      ]
    },
    {
      "cell_type": "markdown",
      "source": [
        "Compared with XGBoosting, the logistic regression model performed almost as good."
      ],
      "metadata": {
        "id": "89gZ6sgAijAN"
      }
    },
    {
      "cell_type": "markdown",
      "source": [
        "#Feature engineering"
      ],
      "metadata": {
        "id": "uxoTN94_bnAr"
      }
    },
    {
      "cell_type": "markdown",
      "source": [
        "Lets use Principal Component Analysis (PCA) to reduce the number of features we have to see if we can improve our testing scores."
      ],
      "metadata": {
        "id": "5NSL-ElIjpPH"
      }
    },
    {
      "cell_type": "code",
      "source": [
        "#instantiate pipeline\n",
        "pca_pipe = make_pipeline(transformer, PCA(n_components=.95))\n",
        "\n",
        "#we can check the size of our original data set and compare it with the engineered dataset to see how many columns we have reduced\n",
        "print(\"Original number of rows and columns\")\n",
        "display(transformer.fit_transform(X_train).shape)\n",
        "print(\"Number of rows and columns after PCA\")\n",
        "display(pca_pipe.fit_transform(X_train).shape)"
      ],
      "metadata": {
        "id": "9pni4TF4XouM",
        "colab": {
          "base_uri": "https://localhost:8080/",
          "height": 86
        },
        "outputId": "e49235f0-f012-4acc-cd50-80f257d4167f"
      },
      "execution_count": 151,
      "outputs": [
        {
          "output_type": "stream",
          "name": "stdout",
          "text": [
            "Original number of rows and columns\n"
          ]
        },
        {
          "output_type": "display_data",
          "data": {
            "text/plain": [
              "(688, 20)"
            ]
          },
          "metadata": {}
        },
        {
          "output_type": "stream",
          "name": "stdout",
          "text": [
            "Number of rows and columns after PCA\n"
          ]
        },
        {
          "output_type": "display_data",
          "data": {
            "text/plain": [
              "(688, 12)"
            ]
          },
          "metadata": {}
        }
      ]
    },
    {
      "cell_type": "markdown",
      "source": [
        "Next we use a K-Nearest Neighbors Classifier to predict our target column using our reduced features matrix. "
      ],
      "metadata": {
        "id": "jGGx8g1ukeX7"
      }
    },
    {
      "cell_type": "markdown",
      "source": [
        "Lets first tune the model."
      ],
      "metadata": {
        "id": "dtYxidBanN8i"
      }
    },
    {
      "cell_type": "code",
      "source": [
        "max_recall = 0\n",
        "k = 0;\n",
        "for i in range(1,20):\n",
        "  #instantiate model\n",
        "  knn = KNeighborsClassifier(n_neighbors=i)\n",
        "\n",
        "  #make another pipeline\n",
        "  pipe = make_pipeline(pca_pipe, knn)\n",
        "\n",
        "  #fit on the data\n",
        "  pipe.fit(X_train, y_train)\n",
        "\n",
        "  #make predictions\n",
        "  test_predictions_pca = pipe.predict(X_test)\n",
        "\n",
        "  #score using recall\n",
        "  temp = recall_score(y_test, test_predictions_pca)\n",
        "\n",
        "  if (temp > max_recall):\n",
        "    max_recall = temp\n",
        "    k = i\n",
        "\n",
        "print(\"The max recall score that was generated was : \", max_recall, \"\\nThe k value is : \", k)"
      ],
      "metadata": {
        "colab": {
          "base_uri": "https://localhost:8080/"
        },
        "id": "U10yynEdl2Tg",
        "outputId": "c3f474b3-00c4-4e86-f89b-ff62526ac5eb"
      },
      "execution_count": 157,
      "outputs": [
        {
          "output_type": "stream",
          "name": "stdout",
          "text": [
            "The max recall score that was generated was :  0.8863636363636364 \n",
            "The k value is :  7\n"
          ]
        }
      ]
    },
    {
      "cell_type": "markdown",
      "source": [
        "Lets now make a final model using the best k value."
      ],
      "metadata": {
        "id": "OnW_xGV5nR0W"
      }
    },
    {
      "cell_type": "code",
      "source": [
        "#instantiate best model\n",
        "knn = KNeighborsClassifier(n_neighbors=7)\n",
        "\n",
        "#put everything in our pipeline\n",
        "pipe = make_pipeline(pca_pipe, knn)\n",
        "\n",
        "#fit data\n",
        "pipe.fit(X_train, y_train)\n",
        "\n",
        "#make predictions using pca\n",
        "train_predictions_pca = pipe.predict(X_train)\n",
        "test_predictions_pca = pipe.predict(X_test)\n",
        "\n",
        "#evaluate knn that uses pca\n",
        "print(\"------------------Training Data Scores------------------\")\n",
        "metric(y_train, train_predictions_pca)\n",
        "plot_confusion_matrix(pipe, X_train, y_train, normalize='true')\n",
        "print(\"\\n-------------------Testing Data Scores-------------------\")\n",
        "metric(y_test, test_predictions_pca)\n",
        "plot_confusion_matrix(pipe, X_test, y_test, normalize='true')"
      ],
      "metadata": {
        "colab": {
          "base_uri": "https://localhost:8080/",
          "height": 1000
        },
        "id": "XW0ZF_WQrEd5",
        "outputId": "0f679cb9-cada-4444-b0c9-cb492b42fce5"
      },
      "execution_count": 159,
      "outputs": [
        {
          "output_type": "stream",
          "name": "stdout",
          "text": [
            "------------------Training Data Scores------------------\n",
            "Accuracy score :  0.8808139534883721\n",
            "Recall score :  0.9122340425531915\n",
            "Precision score :  0.875\n",
            "\n",
            "              precision    recall  f1-score   support\n",
            "\n",
            "           0       0.89      0.84      0.87       312\n",
            "           1       0.88      0.91      0.89       376\n",
            "\n",
            "    accuracy                           0.88       688\n",
            "   macro avg       0.88      0.88      0.88       688\n",
            "weighted avg       0.88      0.88      0.88       688\n",
            "\n",
            "\n",
            "-------------------Testing Data Scores-------------------\n",
            "Accuracy score :  0.8782608695652174\n",
            "Recall score :  0.8863636363636364\n",
            "Precision score :  0.9\n",
            "\n",
            "              precision    recall  f1-score   support\n",
            "\n",
            "           0       0.85      0.87      0.86        98\n",
            "           1       0.90      0.89      0.89       132\n",
            "\n",
            "    accuracy                           0.88       230\n",
            "   macro avg       0.88      0.88      0.88       230\n",
            "weighted avg       0.88      0.88      0.88       230\n",
            "\n"
          ]
        },
        {
          "output_type": "stream",
          "name": "stderr",
          "text": [
            "/usr/local/lib/python3.7/dist-packages/sklearn/utils/deprecation.py:87: FutureWarning: Function plot_confusion_matrix is deprecated; Function `plot_confusion_matrix` is deprecated in 1.0 and will be removed in 1.2. Use one of the class methods: ConfusionMatrixDisplay.from_predictions or ConfusionMatrixDisplay.from_estimator.\n",
            "  warnings.warn(msg, category=FutureWarning)\n",
            "/usr/local/lib/python3.7/dist-packages/sklearn/utils/deprecation.py:87: FutureWarning: Function plot_confusion_matrix is deprecated; Function `plot_confusion_matrix` is deprecated in 1.0 and will be removed in 1.2. Use one of the class methods: ConfusionMatrixDisplay.from_predictions or ConfusionMatrixDisplay.from_estimator.\n",
            "  warnings.warn(msg, category=FutureWarning)\n"
          ]
        },
        {
          "output_type": "execute_result",
          "data": {
            "text/plain": [
              "<sklearn.metrics._plot.confusion_matrix.ConfusionMatrixDisplay at 0x7fafb8d2ffd0>"
            ]
          },
          "metadata": {},
          "execution_count": 159
        },
        {
          "output_type": "display_data",
          "data": {
            "text/plain": [
              "<Figure size 432x288 with 2 Axes>"
            ],
            "image/png": "[encoded data removed]"
          },
          "metadata": {
            "needs_background": "light"
          }
        },
        {
          "output_type": "display_data",
          "data": {
            "text/plain": [
              "<Figure size 432x288 with 2 Axes>"
            ],
            "image/png": "[encoded data removed]"
          },
          "metadata": {
            "needs_background": "light"
          }
        }
      ]
    },
    {
      "cell_type": "markdown",
      "source": [
        "  In this particular data set, we are trying to predict if a patient has heart disease. Lets identify the type of error that we are trying ovoid more. From what I know, it would be better to error on the side of caution and assume a patient has heart disease rather then makeing the mistake in predicting that the pateint does not. A patient who has heart disease and doesn't recieve treatment is at a much higher risk of fatality. Someone who is falsely predicted of having heart disease will most likely go through other tests and examinations which will indicate that they dont require any treatment.\n",
        "\n",
        "  For this reason, the model I would choose to put forth in production is the model that scores the highest recall score. This will insure the lowest number of false negetives. This will avoid the worse outcome as much as possible. \n",
        "      \n",
        "      Chosen Model: K-Nearest Neighbors Classifier\n",
        "            -------------------Testing Data Scores-------------------\n",
        "      Accuracy score :  0.8782608695652174\n",
        "      Recall score :  0.8863636363636364\n",
        "      Precision score :  0.9"
      ],
      "metadata": {
        "id": "SyXgT1Ttd1ko"
      }
    }
  ]
}